{
  "cells": [
    {
      "cell_type": "markdown",
      "metadata": {},
      "source": [
        "# Drawing with LLMs – Diffusion → SVG (Colab)\n",
        "This installs deps, loads config, generates PNGs via diffusion, then vectorizes to strict SVG.\n"
      ]
    },
    {
      "cell_type": "code",
      "metadata": {},
      "execution_count": null,
      "outputs": [],
      "source": [
        "# !pip install -q -r ../requirements.txt\n"
      ]
    },
    {
      "cell_type": "code",
      "metadata": {},
      "execution_count": null,
      "outputs": [],
      "source": [
        "import sys\n",
        "from pathlib import Path\n",
        "ROOT = Path('..').resolve()\n",
        "sys.path.append(str(ROOT))\n",
        "print('Project root:', ROOT)\n"
      ]
    },
    {
      "cell_type": "code",
      "metadata": {},
      "execution_count": null,
      "outputs": [],
      "source": [
        "import yaml\n",
        "cfg_path = ROOT/'configs'/'default.yaml'\n",
        "with open(cfg_path, 'r') as f: cfg = yaml.safe_load(f)\n",
        "cfg\n"
      ]
    },
    {
      "cell_type": "code",
      "metadata": {},
      "execution_count": null,
      "outputs": [],
      "source": [
        "from src.diffusion_pipeline import generate_images\n",
        "generate_images(str(cfg_path))\n"
      ]
    },
    {
      "cell_type": "code",
      "metadata": {},
      "execution_count": null,
      "outputs": [],
      "source": [
        "from src.vectorize import run as vectorize_run\n",
        "vectorize_run(str(cfg_path))\n"
      ]
    }
  ],
  "metadata": {
    "kernelspec": {
      "display_name": "Python 3",
      "language": "python",
      "name": "python3"
    },
    "language_info": {
      "name": "python"
    }
  },
  "nbformat": 4,
  "nbformat_minor": 5
}